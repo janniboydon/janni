{
 "cells": [
  {
   "cell_type": "code",
   "execution_count": 2,
   "id": "favorite-brave",
   "metadata": {},
   "outputs": [],
   "source": [
    "## IMPORT PACKAGES\n",
    "\n",
    "import pandas as pd\n",
    "import numpy as np\n",
    "from matplotlib import pyplot\n",
    "from sklearn.preprocessing import MinMaxScaler\n",
    "from sklearn.linear_model import LogisticRegression\n",
    "from sklearn.tree import DecisionTreeClassifier\n",
    "from sklearn.ensemble import RandomForestClassifier\n",
    "from sklearn.utils import class_weight\n",
    "import xgboost as xgb"
   ]
  },
  {
   "cell_type": "code",
   "execution_count": 3,
   "id": "prerequisite-hobby",
   "metadata": {},
   "outputs": [],
   "source": [
    "# Set parameters\n",
    "timetrain = 1639 # number of days for training (default until May 25 2019: we want two years simulation)\n",
    "timetrail = 30 # number of days before to look at\n",
    "locality = 14 # number of days before and after for a price to be a local low or local high"
   ]
  },
  {
   "cell_type": "code",
   "execution_count": 6,
   "id": "acceptable-triangle",
   "metadata": {
    "scrolled": true
   },
   "outputs": [],
   "source": [
    "## LOAD DATA AND PREPROCESS\n",
    "data = pd.read_csv('Bitstamp_BTCUSD_d_Recent.csv', header=1, index_col=1) # load dataset and plot (data starts Nov. 28, 2014)\n",
    "data = data.iloc[0:,2:] # prepare table\n",
    "data = pd.DataFrame(data.iloc[::-1]) # reverse table and turn to Data Frame\n",
    "data['volume'] = data['Volume BTC'] + data['Volume USD'] # preprocess (add volume btc and volume usd)\n",
    "data = data[['close','volume']] # prepare new table with only close and volume USD\n",
    "\n",
    "# Get train data\n",
    "traindf = data.iloc[:timetrain+1,] # get train data\n",
    "trainscaler = MinMaxScaler(feature_range=(0, 1)) # initialize scaler\n",
    "trainscaled = pd.DataFrame(trainscaler.fit_transform(traindf)) # scale data for better learning\n",
    "trainscaled.columns = ('close','volume') # give label to columns\n",
    "\n",
    "# Prepare time shifted train data table\n",
    "trainscaled.index = traindf.index # give label to rows\n",
    "newcols, newcols_names = list(), list() # initialize time shifted data table\n",
    "for i in range(timetrail, 0, -1):  # prepare time shifted data table\n",
    "    newcols.append(trainscaled.shift(i))\n",
    "    newcols_names.append(('close(t-%d)' % i,'volume(t-%d)' % i))\n",
    "trainshifted = pd.concat(newcols, axis=1) # finalize time shifted data table\n",
    "trainshifted.columns = list(sum(newcols_names, ())) # give label to columns"
   ]
  },
  {
   "cell_type": "code",
   "execution_count": 12,
   "id": "typical-novel",
   "metadata": {
    "scrolled": false
   },
   "outputs": [],
   "source": [
    "# prepare train data\n",
    "trainX = pd.DataFrame(trainshifted.iloc[timetrail:trainshifted.shape[0],].values) # set train attributes and response\n",
    "pricetrainY = pd.DataFrame(trainscaled['close'].iloc[timetrail:trainshifted.shape[0],].values) # set train attributes and response\n",
    "\n",
    "#auto-manually set the buy and sell signals if local high/low else hold\n",
    "signal = list()\n",
    "signalsell = list()\n",
    "signalbuy = list()\n",
    "checkprice = np.zeros(locality*2+1)\n",
    "for i in range(locality,len(pricetrainY.values)-locality):\n",
    "    for j in range(i-locality,i+locality+1):\n",
    "        checkprice[j-i+locality]=pricetrainY.values[j]\n",
    "    if(pricetrainY.values[i]==max(checkprice)):\n",
    "        signal.append('SELL')\n",
    "        signalsell.append(pricetrainY.values[i])\n",
    "        signalbuy.append(0)\n",
    "    elif(pricetrainY.values[i]==min(checkprice)):\n",
    "        signal.append('BUY')\n",
    "        signalbuy.append(pricetrainY.values[i])\n",
    "        signalsell.append(0)\n",
    "    else:\n",
    "        signal.append('HOLD')\n",
    "        signalsell.append(0)\n",
    "        signalbuy.append(0)\n",
    "        \n",
    "#finalize training classification data\n",
    "finaltrainX = trainX.iloc[locality:(len(pricetrainY.values)-locality),:]\n",
    "finaltrainX.columns = trainshifted.columns\n",
    "finaltrainY = pd.DataFrame(signal)"
   ]
  },
  {
   "cell_type": "code",
   "execution_count": 14,
   "id": "sought-boutique",
   "metadata": {
    "scrolled": true
   },
   "outputs": [
    {
     "name": "stderr",
     "output_type": "stream",
     "text": [
      "<ipython-input-14-75a7342847d6>:2: VisibleDeprecationWarning: Creating an ndarray from ragged nested sequences (which is a list-or-tuple of lists-or-tuples-or ndarrays with different lengths or shapes) is deprecated. If you meant to do this, you must specify 'dtype=object' when creating the ndarray\n",
      "  plotsell=pd.DataFrame(np.array(signalsell))\n",
      "<ipython-input-14-75a7342847d6>:3: VisibleDeprecationWarning: Creating an ndarray from ragged nested sequences (which is a list-or-tuple of lists-or-tuples-or ndarrays with different lengths or shapes) is deprecated. If you meant to do this, you must specify 'dtype=object' when creating the ndarray\n",
      "  plotbuy=pd.DataFrame(np.array(signalbuy))\n"
     ]
    },
    {
     "data": {
      "text/plain": [
       "<function matplotlib.pyplot.plot(*args, scalex=True, scaley=True, data=None, **kwargs)>"
      ]
     },
     "execution_count": 14,
     "metadata": {},
     "output_type": "execute_result"
    },
    {
     "data": {
      "image/png": "[encoded data removed]",
      "text/plain": [
       "<Figure size 432x288 with 1 Axes>"
      ]
     },
     "metadata": {
      "needs_background": "light"
     },
     "output_type": "display_data"
    }
   ],
   "source": [
    "#plot buy and sell signals\n",
    "plotsell=pd.DataFrame(np.array(signalsell))\n",
    "plotbuy=pd.DataFrame(np.array(signalbuy))\n",
    "pyplot.figure()\n",
    "pyplot.scatter(range(locality,(len(signalsell)+locality)),plotsell[plotsell!=0],color='red')\n",
    "pyplot.scatter(range(locality,(len(signalbuy)+locality)),plotbuy[plotbuy!=0],color='green')\n",
    "pyplot.plot(pricetrainY)\n",
    "pyplot.plot"
   ]
  },
  {
   "cell_type": "code",
   "execution_count": 16,
   "id": "controlling-living",
   "metadata": {},
   "outputs": [
    {
     "name": "stderr",
     "output_type": "stream",
     "text": [
      "C:\\Users\\Janni\\anaconda3\\lib\\site-packages\\xgboost\\sklearn.py:888: UserWarning: The use of label encoder in XGBClassifier is deprecated and will be removed in a future release. To remove this warning, do the following: 1) Pass option use_label_encoder=False when constructing XGBClassifier object; and 2) Encode your labels (y) as integers starting with 0, i.e. 0, 1, 2, ..., [num_class - 1].\n",
      "  warnings.warn(label_encoder_deprecation_msg, UserWarning)\n",
      "C:\\Users\\Janni\\anaconda3\\lib\\site-packages\\sklearn\\utils\\validation.py:72: DataConversionWarning: A column-vector y was passed when a 1d array was expected. Please change the shape of y to (n_samples, ), for example using ravel().\n",
      "  return f(**kwargs)\n"
     ]
    },
    {
     "name": "stdout",
     "output_type": "stream",
     "text": [
      "[14:17:25] WARNING: C:/Users/Administrator/workspace/xgboost-win64_release_1.3.0/src/learner.cc:1061: Starting in XGBoost 1.3.0, the default evaluation metric used with the objective 'multi:softprob' was changed from 'merror' to 'mlogloss'. Explicitly set eval_metric if you'd like to restore the old behavior.\n"
     ]
    }
   ],
   "source": [
    "# train XGBoost classifier\n",
    "classes_weights = class_weight.compute_sample_weight('balanced',finaltrainY)\n",
    "XGB = xgb.XGBClassifier(learning_rate=0.01, colsample_bytree = 0.6, subsample = 0.8, objective='binary:logistic', n_estimators=1000, reg_alpha = 0.3, max_depth=4, gamma=10).fit(finaltrainX,finaltrainY,sample_weight=classes_weights)"
   ]
  },
  {
   "cell_type": "code",
   "execution_count": 18,
   "id": "relevant-trademark",
   "metadata": {},
   "outputs": [],
   "source": [
    "## TEST DATA\n",
    "\n",
    "# Get test data\n",
    "testdf = data.iloc[(timetrain+1):,] # get test data\n",
    "testscaler = MinMaxScaler(feature_range=(0, 1)) # initialize scaler\n",
    "testscaled = pd.DataFrame(testscaler.fit_transform(testdf)) # scale data for better learning\n",
    "testscaled.columns = ('close','volume') # give label to columns\n",
    "\n",
    "# Prepare time shifted test data table\n",
    "testscaled.index = testdf.index # give label to rows\n",
    "newcols, newcols_names = list(), list() # initialize time shifted data table\n",
    "for i in range(timetrail, 0, -1): # prepare time shifted data table\n",
    "    newcols.append(testscaled.shift(i))\n",
    "    newcols_names.append(('close(t-%d)' % i,'volume(t-%d)' % i))\n",
    "testshifted = pd.concat(newcols, axis=1) # finalize time shifted data table\n",
    "testshifted.columns = list(sum(newcols_names, ())) # give label to columns\n",
    "\n",
    "# finalize test data\n",
    "testX = pd.DataFrame(testshifted.iloc[timetrail:,].values) # set train attributes and response\n",
    "pricetestY = pd.DataFrame(testscaled['close'].iloc[timetrail:testshifted.shape[0],].values) # set train attributes and response\n",
    "testX.columns = testshifted.columns"
   ]
  },
  {
   "cell_type": "code",
   "execution_count": 20,
   "id": "favorite-responsibility",
   "metadata": {},
   "outputs": [
    {
     "name": "stderr",
     "output_type": "stream",
     "text": [
      "<ipython-input-20-38bfa26944bb>:19: VisibleDeprecationWarning: Creating an ndarray from ragged nested sequences (which is a list-or-tuple of lists-or-tuples-or ndarrays with different lengths or shapes) is deprecated. If you meant to do this, you must specify 'dtype=object' when creating the ndarray\n",
      "  testplotsell=pd.DataFrame(np.array(testsignalsell))\n",
      "<ipython-input-20-38bfa26944bb>:20: VisibleDeprecationWarning: Creating an ndarray from ragged nested sequences (which is a list-or-tuple of lists-or-tuples-or ndarrays with different lengths or shapes) is deprecated. If you meant to do this, you must specify 'dtype=object' when creating the ndarray\n",
      "  testplotbuy=pd.DataFrame(np.array(testsignalbuy))\n"
     ]
    },
    {
     "data": {
      "text/plain": [
       "<function matplotlib.pyplot.plot(*args, scalex=True, scaley=True, data=None, **kwargs)>"
      ]
     },
     "execution_count": 20,
     "metadata": {},
     "output_type": "execute_result"
    },
    {
     "data": {
      "image/png": "[encoded data removed]",
      "text/plain": [
       "<Figure size 432x288 with 1 Axes>"
      ]
     },
     "metadata": {
      "needs_background": "light"
     },
     "output_type": "display_data"
    }
   ],
   "source": [
    "# predict using XGBoost\n",
    "XGBpredY = XGB.predict(testX) # make predictions using model\n",
    "\n",
    "# prepare buy/sell signal order\n",
    "testsignalsell = list()\n",
    "testsignalbuy = list()\n",
    "for k in range(len(XGBpredY)):\n",
    "    if XGBpredY[k] == 'BUY':\n",
    "        testsignalbuy.append(pricetestY.values[k])\n",
    "        testsignalsell.append(0)\n",
    "    elif XGBpredY[k] == 'SELL':\n",
    "        testsignalbuy.append(0)\n",
    "        testsignalsell.append(pricetestY.values[k])\n",
    "    else:\n",
    "        testsignalbuy.append(0)\n",
    "        testsignalsell.append(0)\n",
    "\n",
    "# plot buy and sell signals as predicted\n",
    "testplotsell=pd.DataFrame(np.array(testsignalsell))\n",
    "testplotbuy=pd.DataFrame(np.array(testsignalbuy))\n",
    "pyplot.figure() # plot training data\n",
    "pyplot.scatter(range(len(testsignalsell)),testplotsell[testplotsell!=0],color='red')\n",
    "pyplot.scatter(range(len(testsignalbuy)),testplotbuy[testplotbuy!=0],color='green')\n",
    "pyplot.plot(pricetestY)\n",
    "pyplot.plot"
   ]
  },
  {
   "cell_type": "code",
   "execution_count": 61,
   "id": "israeli-rhythm",
   "metadata": {
    "scrolled": true
   },
   "outputs": [
    {
     "name": "stdout",
     "output_type": "stream",
     "text": [
      "Bought at 10407.710, Coins held: 0.190, Money now: 0.00\n",
      "Sold at 10573.660, Coins held: 0.000, Money now: 99572.76\n",
      "Bought at 8170.650, Coins held: 0.241, Money now: 0.00\n",
      "Sold at 9500.000, Coins held: 0.000, Money now: 113469.18\n",
      "Bought at 6908.240, Coins held: 0.325, Money now: 0.00\n",
      "Sold at 11923.960, Coins held: 0.000, Money now: 191955.88\n",
      "Bought at 10411.290, Coins held: 0.365, Money now: 0.00\n",
      "Sold at 10689.810, Coins held: 0.000, Money now: 193168.92\n",
      "Bought at 10669.630, Coins held: 0.358, Money now: 0.00\n",
      "Sold at 39282.100, Coins held: 0.000, Money now: 697032.42\n",
      "Bought at 45240.960, Coins held: 0.305, Money now: 0.00\n",
      "Sold at 56622.660, Coins held: 0.000, Money now: 855030.92\n"
     ]
    }
   ],
   "source": [
    "## SIMULATION\n",
    "trueprice=pd.DataFrame(data['close'].values) # get true (non-scaled) prices of test data\n",
    "testtrueprice=trueprice.iloc[len(data)-len(pricetestY):,] # adjust so same timeframe\n",
    "\n",
    "money = 100000\n",
    "state = 'HOLD'\n",
    "shares = 0\n",
    "for a in range(len(testtrueprice)):\n",
    "    if XGBpredY[a] == 'BUY' and state != 'BUY':\n",
    "        shares = (money/testtrueprice.values[a])*0.99\n",
    "        money = 0\n",
    "        print('Bought at %.3f, Coins held: %.3f, Money now: %.2f' % (testtrueprice.values[a], shares/50, money))\n",
    "        state = 'BUY'\n",
    "    if XGBpredY[a] == 'SELL' and state == 'BUY':\n",
    "        money = shares*testtrueprice.values[a]*0.99\n",
    "        shares = 0\n",
    "        print('Sold at %.3f, Coins held: %.3f, Money now: %.2f' % (testtrueprice.values[a], shares/50, money))\n",
    "        state = 'SELL'"
   ]
  },
  {
   "cell_type": "code",
   "execution_count": 71,
   "id": "declared-google",
   "metadata": {},
   "outputs": [
    {
     "name": "stderr",
     "output_type": "stream",
     "text": [
      "<ipython-input-71-a90312e742ec>:19: VisibleDeprecationWarning: Creating an ndarray from ragged nested sequences (which is a list-or-tuple of lists-or-tuples-or ndarrays with different lengths or shapes) is deprecated. If you meant to do this, you must specify 'dtype=object' when creating the ndarray\n",
      "  testplotsell=pd.DataFrame(np.array(testsignalsell))\n",
      "<ipython-input-71-a90312e742ec>:20: VisibleDeprecationWarning: Creating an ndarray from ragged nested sequences (which is a list-or-tuple of lists-or-tuples-or ndarrays with different lengths or shapes) is deprecated. If you meant to do this, you must specify 'dtype=object' when creating the ndarray\n",
      "  testplotbuy=pd.DataFrame(np.array(testsignalbuy))\n"
     ]
    },
    {
     "name": "stdout",
     "output_type": "stream",
     "text": [
      "Bought at 10772.220, Coins held: 0.184, Money now: 0.00\n",
      "Sold at 10401.600, Coins held: 0.000, Money now: 94637.95\n",
      "Bought at 10573.660, Coins held: 0.177, Money now: 0.00\n",
      "Sold at 10368.650, Coins held: 0.000, Money now: 90956.26\n",
      "Bought at 10195.730, Coins held: 0.177, Money now: 0.00\n",
      "Sold at 8047.600, Coins held: 0.000, Money now: 70364.08\n",
      "Bought at 8582.110, Coins held: 0.162, Money now: 0.00\n",
      "Sold at 8265.550, Coins held: 0.000, Money now: 66420.04\n",
      "Bought at 8720.360, Coins held: 0.151, Money now: 0.00\n",
      "Sold at 8755.240, Coins held: 0.000, Money now: 65358.66\n",
      "Bought at 7502.650, Coins held: 0.172, Money now: 0.00\n",
      "Sold at 7340.520, Coins held: 0.000, Money now: 62673.75\n",
      "Bought at 6950.560, Coins held: 0.179, Money now: 0.00\n",
      "Sold at 8892.630, Coins held: 0.000, Money now: 78589.85\n",
      "Bought at 7202.730, Coins held: 0.216, Money now: 0.00\n",
      "Sold at 8627.320, Coins held: 0.000, Money now: 92260.46\n",
      "Bought at 8983.790, Coins held: 0.203, Money now: 0.00\n",
      "Sold at 8915.980, Coins held: 0.000, Money now: 89741.95\n",
      "Bought at 8903.560, Coins held: 0.200, Money now: 0.00\n",
      "Sold at 9705.100, Coins held: 0.000, Money now: 95874.31\n",
      "Bought at 10203.640, Coins held: 0.186, Money now: 0.00\n",
      "Sold at 9894.320, Coins held: 0.000, Money now: 91117.85\n",
      "Bought at 9435.150, Coins held: 0.191, Money now: 0.00\n",
      "Sold at 9304.320, Coins held: 0.000, Money now: 88066.28\n",
      "Bought at 9009.300, Coins held: 0.194, Money now: 0.00\n",
      "Sold at 9138.520, Coins held: 0.000, Money now: 87551.76\n",
      "Bought at 9156.500, Coins held: 0.189, Money now: 0.00\n",
      "Sold at 11793.260, Coins held: 0.000, Money now: 110519.68\n",
      "Bought at 11330.000, Coins held: 0.193, Money now: 0.00\n",
      "Sold at 10443.330, Coins held: 0.000, Money now: 99843.34\n",
      "Bought at 10334.780, Coins held: 0.191, Money now: 0.00\n",
      "Sold at 10940.470, Coins held: 0.000, Money now: 103591.53\n",
      "Bought at 13066.730, Coins held: 0.157, Money now: 0.00\n",
      "Sold at 26259.600, Coins held: 0.000, Money now: 204040.24\n",
      "Bought at 35917.620, Coins held: 0.112, Money now: 0.00\n",
      "Sold at 53236.840, Coins held: 0.000, Money now: 296408.69\n"
     ]
    },
    {
     "data": {
      "image/png": "[encoded data removed]",
      "text/plain": [
       "<Figure size 432x288 with 1 Axes>"
      ]
     },
     "metadata": {
      "needs_background": "light"
     },
     "output_type": "display_data"
    }
   ],
   "source": [
    "# predict using decision tree\n",
    "DT = DecisionTreeClassifier(min_samples_split=5).fit(finaltrainX,finaltrainY) # fit decision tree\n",
    "\n",
    "DTpredY = DT.predict(testX) # make predictions using model\n",
    "\n",
    "testsignalsell = list()\n",
    "testsignalbuy = list()\n",
    "for k in range(len(DTpredY)):\n",
    "    if DTpredY[k] == 'BUY':\n",
    "        testsignalbuy.append(pricetestY.values[k])\n",
    "        testsignalsell.append(0)\n",
    "    elif DTpredY[k] == 'SELL':\n",
    "        testsignalbuy.append(0)\n",
    "        testsignalsell.append(pricetestY.values[k])\n",
    "    else:\n",
    "        testsignalbuy.append(0)\n",
    "        testsignalsell.append(0)\n",
    "        \n",
    "testplotsell=pd.DataFrame(np.array(testsignalsell))\n",
    "testplotbuy=pd.DataFrame(np.array(testsignalbuy))\n",
    "pyplot.figure() # plot training data\n",
    "pyplot.scatter(range(len(testsignalsell)),testplotsell[testplotsell!=0],color='red')\n",
    "pyplot.scatter(range(len(testsignalbuy)),testplotbuy[testplotbuy!=0],color='green')\n",
    "pyplot.plot(pricetestY)\n",
    "pyplot.plot\n",
    "\n",
    "## SIMULATION\n",
    "trueprice=pd.DataFrame(data['close'].values)\n",
    "testtrueprice=trueprice.iloc[len(data)-len(pricetestY):,]\n",
    "\n",
    "money = 100000\n",
    "state = 'HOLD'\n",
    "shares = 0\n",
    "for a in range(len(testtrueprice)):\n",
    "    if DTpredY[a] == 'BUY' and state != 'BUY':\n",
    "        shares = (money/testtrueprice.values[a])*0.99\n",
    "        money = 0\n",
    "        print('Bought at %.3f, Coins held: %.3f, Money now: %.2f' % (testtrueprice.values[a], shares/50, money))\n",
    "        state = 'BUY'\n",
    "    if DTpredY[a] == 'SELL' and state == 'BUY':\n",
    "        money = shares*testtrueprice.values[a]*0.99\n",
    "        shares = 0\n",
    "        print('Sold at %.3f, Coins held: %.3f, Money now: %.2f' % (testtrueprice.values[a], shares/50, money))\n",
    "        state = 'SELL'"
   ]
  },
  {
   "cell_type": "code",
   "execution_count": 72,
   "id": "inside-collectible",
   "metadata": {},
   "outputs": [
    {
     "name": "stderr",
     "output_type": "stream",
     "text": [
      "<ipython-input-72-50042b4d82d8>:21: VisibleDeprecationWarning: Creating an ndarray from ragged nested sequences (which is a list-or-tuple of lists-or-tuples-or ndarrays with different lengths or shapes) is deprecated. If you meant to do this, you must specify 'dtype=object' when creating the ndarray\n",
      "  testplotsell=pd.DataFrame(np.array(testsignalsell))\n",
      "<ipython-input-72-50042b4d82d8>:22: VisibleDeprecationWarning: Creating an ndarray from ragged nested sequences (which is a list-or-tuple of lists-or-tuples-or ndarrays with different lengths or shapes) is deprecated. If you meant to do this, you must specify 'dtype=object' when creating the ndarray\n",
      "  testplotbuy=pd.DataFrame(np.array(testsignalbuy))\n"
     ]
    },
    {
     "name": "stdout",
     "output_type": "stream",
     "text": [
      "Bought at 11751.010, Coins held: 0.168, Money now: 0.00\n",
      "Sold at 39290.380, Coins held: 0.000, Money now: 327703.76\n"
     ]
    },
    {
     "data": {
      "image/png": "[encoded data removed]",
      "text/plain": [
       "<Figure size 432x288 with 1 Axes>"
      ]
     },
     "metadata": {
      "needs_background": "light"
     },
     "output_type": "display_data"
    }
   ],
   "source": [
    "## HOLD\n",
    "action=list()\n",
    "action.append('BUY')\n",
    "for a in range(len(testtrueprice)-2):\n",
    "    action.append('HOLD')\n",
    "action.append('SELL')\n",
    "\n",
    "testsignalsell = list()\n",
    "testsignalbuy = list()\n",
    "for k in range(len(action)):\n",
    "    if action[k] == 'BUY':\n",
    "        testsignalbuy.append(pricetestY.values[k])\n",
    "        testsignalsell.append(0)\n",
    "    elif action[k] == 'SELL':\n",
    "        testsignalbuy.append(0)\n",
    "        testsignalsell.append(pricetestY.values[k])\n",
    "    else:\n",
    "        testsignalbuy.append(0)\n",
    "        testsignalsell.append(0)\n",
    "        \n",
    "testplotsell=pd.DataFrame(np.array(testsignalsell))\n",
    "testplotbuy=pd.DataFrame(np.array(testsignalbuy))\n",
    "pyplot.figure() # plot training data\n",
    "pyplot.scatter(range(len(testsignalsell)),testplotsell[testplotsell!=0],color='red')\n",
    "pyplot.scatter(range(len(testsignalbuy)),testplotbuy[testplotbuy!=0],color='green')\n",
    "pyplot.plot(pricetestY)\n",
    "pyplot.plot\n",
    "\n",
    "money = 100000\n",
    "state = 'HOLD'\n",
    "shares = 0\n",
    "for a in range(len(testtrueprice)):\n",
    "    if action[a] == 'BUY' and state != 'BUY':\n",
    "        shares = (money/testtrueprice.values[a])*0.99\n",
    "        money = 0\n",
    "        print('Bought at %.3f, Coins held: %.3f, Money now: %.2f' % (testtrueprice.values[a], shares/50, money))\n",
    "        state = 'BUY'\n",
    "    if action[a] == 'SELL' and state == 'BUY':\n",
    "        money = shares*testtrueprice.values[a]*0.99\n",
    "        shares = 0\n",
    "        print('Sold at %.3f, Coins held: %.3f, Money now: %.2f' % (testtrueprice.values[a], shares/50, money))"
   ]
  }
 ],
 "metadata": {
  "kernelspec": {
   "display_name": "Python 3",
   "language": "python",
   "name": "python3"
  },
  "language_info": {
   "codemirror_mode": {
    "name": "ipython",
    "version": 3
   },
   "file_extension": ".py",
   "mimetype": "text/x-python",
   "name": "python",
   "nbconvert_exporter": "python",
   "pygments_lexer": "ipython3",
   "version": "3.8.3"
  }
 },
 "nbformat": 4,
 "nbformat_minor": 5
}
